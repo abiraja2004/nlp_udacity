{
 "cells": [
  {
   "cell_type": "markdown",
   "metadata": {},
   "source": [
    "# Sentiment Classification & How To \"Frame Problems\" for a Neural Network\n",
    "\n",
    "by Andrew Trask\n",
    "\n",
    "- **Twitter**: @iamtrask\n",
    "- **Blog**: http://iamtrask.github.io"
   ]
  },
  {
   "cell_type": "markdown",
   "metadata": {
    "nbpresent": {
     "id": "56bb3cba-260c-4ebe-9ed6-b995b4c72aa3"
    }
   },
   "source": [
    "# Lesson: Curate a Dataset"
   ]
  },
  {
   "cell_type": "code",
   "execution_count": 1,
   "metadata": {
    "collapsed": false,
    "nbpresent": {
     "id": "eba2b193-0419-431e-8db9-60f34dd3fe83"
    }
   },
   "outputs": [],
   "source": [
    "def pretty_print_review_and_label(i):\n",
    "    print(labels[i] + \"\\t:\\t\" + reviews[i][:80] + \"...\")\n",
    "\n",
    "g = open('reviews.txt','r') # What we know!\n",
    "reviews = list(map(lambda x:x[:-1],g.readlines()))\n",
    "g.close()\n",
    "\n",
    "g = open('labels.txt','r') # What we WANT to know!\n",
    "labels = list(map(lambda x:x[:-1].upper(),g.readlines()))\n",
    "g.close()"
   ]
  },
  {
   "cell_type": "code",
   "execution_count": 2,
   "metadata": {
    "collapsed": false
   },
   "outputs": [
    {
     "data": {
      "text/plain": [
       "25000"
      ]
     },
     "execution_count": 2,
     "metadata": {},
     "output_type": "execute_result"
    }
   ],
   "source": [
    "len(reviews)"
   ]
  },
  {
   "cell_type": "code",
   "execution_count": 3,
   "metadata": {
    "collapsed": false
   },
   "outputs": [
    {
     "data": {
      "text/plain": [
       "'story of a man who has unnatural feelings for a pig . starts out with a opening scene that is a terrific example of absurd comedy . a formal orchestra audience is turned into an insane  violent mob by the crazy chantings of it  s singers . unfortunately it stays absurd the whole time with no general narrative eventually making it just too off putting . even those from the era should be turned off . the cryptic dialogue would make shakespeare seem easy to a third grader . on a technical level it  s better than you might think with some good cinematography by future great vilmos zsigmond . future stars sally kirkland and frederic forrest can be seen briefly .  '"
      ]
     },
     "execution_count": 3,
     "metadata": {},
     "output_type": "execute_result"
    }
   ],
   "source": [
    "reviews[1]"
   ]
  },
  {
   "cell_type": "code",
   "execution_count": 4,
   "metadata": {
    "collapsed": false,
    "nbpresent": {
     "id": "e0408810-c424-4ed4-afb9-1735e9ddbd0a"
    }
   },
   "outputs": [
    {
     "data": {
      "text/plain": [
       "'NEGATIVE'"
      ]
     },
     "execution_count": 4,
     "metadata": {},
     "output_type": "execute_result"
    }
   ],
   "source": [
    "labels[1]"
   ]
  },
  {
   "cell_type": "markdown",
   "metadata": {},
   "source": [
    "# Lesson: Develop a Predictive Theory"
   ]
  },
  {
   "cell_type": "code",
   "execution_count": 5,
   "metadata": {
    "collapsed": false,
    "nbpresent": {
     "id": "e67a709f-234f-4493-bae6-4fb192141ee0"
    }
   },
   "outputs": [
    {
     "name": "stdout",
     "output_type": "stream",
     "text": [
      "labels.txt \t : \t reviews.txt\n",
      "\n",
      "NEGATIVE\t:\tthis movie is terrible but it has some good effects .  ...\n",
      "POSITIVE\t:\tadrian pasdar is excellent is this film . he makes a fascinating woman .  ...\n",
      "NEGATIVE\t:\tcomment this movie is impossible . is terrible  very improbable  bad interpretat...\n",
      "POSITIVE\t:\texcellent episode movie ala pulp fiction .  days   suicides . it doesnt get more...\n",
      "NEGATIVE\t:\tif you haven  t seen this  it  s terrible . it is pure trash . i saw this about ...\n",
      "POSITIVE\t:\tthis schiffer guy is a real genius  the movie is of excellent quality and both e...\n",
      "POSITIVE\t:\tbromwell high is a cartoon comedy . it ran at the same time as some other progra...\n"
     ]
    }
   ],
   "source": [
    "print(\"labels.txt \\t : \\t reviews.txt\\n\")\n",
    "pretty_print_review_and_label(2137)\n",
    "pretty_print_review_and_label(12816)\n",
    "pretty_print_review_and_label(6267)\n",
    "pretty_print_review_and_label(21934)\n",
    "pretty_print_review_and_label(5297)\n",
    "pretty_print_review_and_label(4998)\n",
    "pretty_print_review_and_label(0)"
   ]
  },
  {
   "cell_type": "code",
   "execution_count": 7,
   "metadata": {
    "collapsed": true
   },
   "outputs": [],
   "source": [
    "# hypothesis: words contained in a review text are correlated with the label"
   ]
  },
  {
   "cell_type": "code",
   "execution_count": 16,
   "metadata": {
    "collapsed": true
   },
   "outputs": [],
   "source": [
    "# using the magic of the Counter() object\n",
    "from collections import Counter\n",
    "import numpy as np\n",
    "# to take away common words\n",
    "from nltk.corpus import stopwords"
   ]
  },
  {
   "cell_type": "code",
   "execution_count": 18,
   "metadata": {
    "collapsed": true
   },
   "outputs": [],
   "source": [
    "# initializing the Counter objects\n",
    "pos_count = Counter()\n",
    "neg_count = Counter()\n",
    "total_count = Counter()"
   ]
  },
  {
   "cell_type": "code",
   "execution_count": 19,
   "metadata": {
    "collapsed": true
   },
   "outputs": [],
   "source": [
    "stop_words = set(stopwords.words(\"english\"))"
   ]
  },
  {
   "cell_type": "code",
   "execution_count": 20,
   "metadata": {
    "collapsed": false
   },
   "outputs": [],
   "source": [
    "for i in range(len(reviews)):\n",
    "    if labels[i] == \"POSITIVE\":\n",
    "        for word in reviews[i].split(\" \"):\n",
    "            # use Counter object like a dictionary that already has all the keys\n",
    "            # but define \"at the space of key\"\n",
    "            if word not in stop_words:\n",
    "                # add only the more distinguishing words to the pos/neg count\n",
    "                pos_count[word] += 1\n",
    "            # count all words including stopwords\n",
    "            total_count[word] += 1\n",
    "    elif labels[i] == \"NEGATIVE\":\n",
    "        for word in reviews[i].split(\" \"):\n",
    "            if word not in stop_words:\n",
    "                neg_count[word] += 1\n",
    "            total_count[word] += 1"
   ]
  },
  {
   "cell_type": "code",
   "execution_count": 36,
   "metadata": {
    "collapsed": false
   },
   "outputs": [
    {
     "data": {
      "text/plain": [
       "[('', 550468),\n",
       " ('.', 159654),\n",
       " ('br', 49235),\n",
       " ('film', 20937),\n",
       " ('movie', 19074),\n",
       " ('one', 13655),\n",
       " ('like', 9038),\n",
       " ('good', 7720),\n",
       " ('story', 6780),\n",
       " ('time', 6515)]"
      ]
     },
     "execution_count": 36,
     "metadata": {},
     "output_type": "execute_result"
    }
   ],
   "source": [
    "# useful Counter functions!\n",
    "pos_count.most_common()[:10]"
   ]
  },
  {
   "cell_type": "code",
   "execution_count": 37,
   "metadata": {
    "collapsed": false
   },
   "outputs": [
    {
     "data": {
      "text/plain": [
       "[('', 561462),\n",
       " ('.', 167538),\n",
       " ('br', 52637),\n",
       " ('movie', 24965),\n",
       " ('film', 19218),\n",
       " ('one', 13134),\n",
       " ('like', 11238),\n",
       " ('even', 7687),\n",
       " ('good', 7423),\n",
       " ('bad', 7401)]"
      ]
     },
     "execution_count": 37,
     "metadata": {},
     "output_type": "execute_result"
    }
   ],
   "source": [
    "neg_count.most_common()[:10]"
   ]
  },
  {
   "cell_type": "markdown",
   "metadata": {},
   "source": [
    "But this doesn't really tell us about which words are **indicative** of positive or negative Reviews. Most of these words appear both in positive and negative Reviews very often."
   ]
  },
  {
   "cell_type": "code",
   "execution_count": 38,
   "metadata": {
    "collapsed": true
   },
   "outputs": [],
   "source": [
    "# we need to do NORMALIZATION - which word is the most common for pos/neg\n",
    "pos_neg_ratios = Counter()\n",
    "\n",
    "for word, count in list(total_count.most_common()): # do I actually need the list() for this to work?!\n",
    "    if count > 100:\n",
    "        pos_neg_ratio = pos_count[word] / float(neg_count[word] + 1) # why +1?! and float() is unnecessary in p3?\n",
    "        pos_neg_ratios[word] = pos_neg_ratio"
   ]
  },
  {
   "cell_type": "code",
   "execution_count": null,
   "metadata": {
    "collapsed": true
   },
   "outputs": [],
   "source": [
    "# the +1 from before has something to do with the upcoming (some log normalization)\n",
    "for word, ratio in pos_neg_ratios.most_common():\n",
    "    if ratio > 1:\n",
    "        pos_neg_ratios[word] = np.log(ratio) # why do we do log here?\n",
    "    else:\n",
    "        # not sure what's going on here (I assume it's reversing the count if it's negatively correlated)\n",
    "        pos_neg_ratios[word] = -np.log((1 / (ratio + 0.01))) # this stays too unexplained IMO"
   ]
  },
  {
   "cell_type": "code",
   "execution_count": 39,
   "metadata": {
    "collapsed": false
   },
   "outputs": [
    {
     "data": {
      "text/plain": [
       "[('edie', 109.0),\n",
       " ('paulie', 59.0),\n",
       " ('felix', 23.4),\n",
       " ('polanski', 16.833333333333332),\n",
       " ('matthau', 16.555555555555557),\n",
       " ('victoria', 14.6),\n",
       " ('mildred', 13.5),\n",
       " ('gandhi', 12.666666666666666),\n",
       " ('flawless', 11.6),\n",
       " ('superbly', 9.583333333333334),\n",
       " ('perfection', 8.666666666666666),\n",
       " ('astaire', 8.5),\n",
       " ('captures', 7.68),\n",
       " ('voight', 7.615384615384615),\n",
       " ('wonderfully', 7.552631578947368),\n",
       " ('powell', 7.230769230769231),\n",
       " ('brosnan', 7.0625),\n",
       " ('lily', 6.823529411764706),\n",
       " ('bakshi', 6.705882352941177),\n",
       " ('lincoln', 6.695652173913044),\n",
       " ('refreshing', 6.392857142857143),\n",
       " ('breathtaking', 6.3478260869565215),\n",
       " ('bourne', 6.346153846153846),\n",
       " ('lemmon', 6.333333333333333),\n",
       " ('delightful', 6.051282051282051),\n",
       " ('flynn', 6.0476190476190474),\n",
       " ('andrews', 5.909090909090909),\n",
       " ('homer', 5.866666666666666),\n",
       " ('beautifully', 5.828125),\n",
       " ('soccer', 5.8)]"
      ]
     },
     "execution_count": 39,
     "metadata": {},
     "output_type": "execute_result"
    }
   ],
   "source": [
    "# checking out liked actors\n",
    "pos_neg_ratios.most_common()[:30]"
   ]
  },
  {
   "cell_type": "code",
   "execution_count": 35,
   "metadata": {
    "collapsed": false
   },
   "outputs": [
    {
     "data": {
      "text/plain": [
       "[('its', -4.6051701859880918),\n",
       " ('were', -4.6051701859880918),\n",
       " ('in', -4.6051701859880918),\n",
       " ('where', -4.6051701859880918),\n",
       " ('our', -4.6051701859880918),\n",
       " ('under', -4.6051701859880918),\n",
       " ('ve', -4.6051701859880918),\n",
       " ('more', -4.6051701859880918),\n",
       " ('him', -4.6051701859880918),\n",
       " ('further', -4.6051701859880918),\n",
       " ('has', -4.6051701859880918),\n",
       " ('her', -4.6051701859880918),\n",
       " ('any', -4.6051701859880918),\n",
       " ('of', -4.6051701859880918),\n",
       " ('myself', -4.6051701859880918),\n",
       " ('few', -4.6051701859880918),\n",
       " ('whom', -4.6051701859880918),\n",
       " ('doing', -4.6051701859880918),\n",
       " ('shouldn', -4.6051701859880918),\n",
       " ('you', -4.6051701859880918),\n",
       " ('over', -4.6051701859880918),\n",
       " ('once', -4.6051701859880918),\n",
       " ('how', -4.6051701859880918),\n",
       " ('haven', -4.6051701859880918),\n",
       " ('re', -4.6051701859880918),\n",
       " ('hadn', -4.6051701859880918),\n",
       " ('when', -4.6051701859880918),\n",
       " ('because', -4.6051701859880918),\n",
       " ('aren', -4.6051701859880918),\n",
       " ('not', -4.6051701859880918)]"
      ]
     },
     "execution_count": 35,
     "metadata": {},
     "output_type": "execute_result"
    }
   ],
   "source": [
    "# and how does the other end look like?\n",
    "list(reversed(pos_neg_ratios.most_common()))[:30]\n",
    "# interstingly I have different results here than he has. seems I made a mistake somewhere..."
   ]
  },
  {
   "cell_type": "markdown",
   "metadata": {},
   "source": [
    "^ something's not quite right here, because I am getting different results in the negative `most.common()` while the positive one seems to be correct. Must be a mistake somewhere in the calculation part?"
   ]
  },
  {
   "cell_type": "code",
   "execution_count": null,
   "metadata": {
    "collapsed": true
   },
   "outputs": [],
   "source": []
  }
 ],
 "metadata": {
  "anaconda-cloud": {},
  "kernelspec": {
   "display_name": "Python [default]",
   "language": "python",
   "name": "python3"
  },
  "language_info": {
   "codemirror_mode": {
    "name": "ipython",
    "version": 3
   },
   "file_extension": ".py",
   "mimetype": "text/x-python",
   "name": "python",
   "nbconvert_exporter": "python",
   "pygments_lexer": "ipython3",
   "version": "3.5.2"
  }
 },
 "nbformat": 4,
 "nbformat_minor": 1
}
